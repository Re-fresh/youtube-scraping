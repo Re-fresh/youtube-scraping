{
 "cells": [
  {
   "cell_type": "code",
   "execution_count": 9,
   "metadata": {},
   "outputs": [],
   "source": [
    "# !jupyter notebook --NotebookApp.iopub_data_rate_limit=1.0e10"
   ]
  },
  {
   "cell_type": "code",
   "execution_count": 26,
   "metadata": {},
   "outputs": [],
   "source": [
    "import requests\n",
    "import threading\n",
    "from bs4 import BeautifulSoup\n",
    "import re                              #regex\n",
    "from selenium import webdriver\n",
    "from selenium.webdriver.chrome.options import Options\n",
    "opts = Options()\n",
    "opts.page_load_strategy = 'eager'\n",
    "# dir(opts)\n",
    "opts.headless=True\n",
    "# assert opts.headless\n",
    "# dir(webdriver.Chrome)"
   ]
  },
  {
   "cell_type": "code",
   "execution_count": 28,
   "metadata": {},
   "outputs": [],
   "source": [
    "# assembling all the above in the function below\n",
    "browser = webdriver.Chrome(executable_path=\"C:\\\\Users\\\\admin\\\\Downloads\\\\youtube-scraper\\\\chromedriver-84.0.4147.30\", options=opts) \n",
    "\n",
    "def vid_scrape(url):\n",
    "    browser.get(url)\n",
    "    x = browser.page_source\n",
    "\n",
    "    pattern_title = r'title\\\\\\\":\\\\\\\"(.*)\\\\\\\",\\\\\\\"lengthSeconds'\n",
    "    page_title = re.search(pattern_title, x).group(1)\n",
    "\n",
    "    pattern_date = r'\\\\\\\"uploadDate\\\\\\\":\\\\\\\"(\\d\\d\\d\\d-\\d\\d-\\d\\d)\\\\\\\"}}'\n",
    "    upload_date = re.search(pattern_date, x).group(1)\n",
    "\n",
    "    pattern_like = r'{\\\"label\\\":\\\"(.*?) likes\\\"}'\n",
    "    like_count = re.search(pattern_like, x).group(1)\n",
    "\n",
    "    pattern_dislike = r'{\\\"label\\\":\\\"([0-9,]*) dislikes\\\"{0,1}'\n",
    "    dislike_count = re.search(pattern_dislike, x).group(1)\n",
    "    print(\"----------------------------\")\n",
    "    print(\"URL: \" + url)\n",
    "    print(\"Title: \" + page_title)\n",
    "    print(\"Upload Date: \" + upload_date)\n",
    "    print(\"Likes: \" + like_count)\n",
    "    print(\"Dislikes: \" + dislike_count + \"\\n\")\n",
    "\n",
    "# vid_scrape(\"https://www.youtube.com/watch?v=HGoT7pDfPUE\")"
   ]
  },
  {
   "cell_type": "code",
   "execution_count": 29,
   "metadata": {},
   "outputs": [],
   "source": [
    "# import time\n",
    "# SCROLL_PAUSE_TIME = 0.5\n",
    "\n",
    "# # Get scroll height\n",
    "# last_height = browser.execute_script(\"return document.body.scrollHeight\")\n",
    "\n",
    "# while True:\n",
    "#     # Scroll down to bottom\n",
    "#     browser.execute_script(\"window.scrollTo(0, document.body.scrollHeight);\")\n",
    "\n",
    "#     # Wait to load page\n",
    "#     time.sleep(SCROLL_PAUSE_TIME)\n",
    "\n",
    "#     # Calculate new scroll height and compare with last scroll height\n",
    "#     new_height = browser.execute_script(\"return document.body.scrollHeight\")\n",
    "#     if new_height == last_height:\n",
    "#         break\n",
    "#     last_height = new_height"
   ]
  },
  {
   "cell_type": "code",
   "execution_count": 38,
   "metadata": {},
   "outputs": [
    {
     "data": {
      "text/plain": [
       "['FsAPt_9Bf3U', '9tlHQOKMHGA', 'Mus_vwhTCq0']"
      ]
     },
     "execution_count": 38,
     "metadata": {},
     "output_type": "execute_result"
    }
   ],
   "source": [
    "# https://www.youtube.com/watch?v=HGoT7pDfPUE\n",
    "# https://www.youtube.com/watch?v=mvmuCPvRoWQ\n",
    "# https://www.youtube.com/watch?v=7txdxpRwuKE\n",
    "# https://www.youtube.com/watch?v=cl0a3i2wFcc\n",
    "# https://www.youtube.com/watch?v=FsAPt_9Bf3U\n",
    "# https://www.youtube.com/watch?v=9tlHQOKMHGA\n",
    "# https://www.youtube.com/watch?v=Mus_vwhTCq0\n",
    "# https://www.youtube.com/watch?v=YcrXBDAeTCs   #This video has 0 dislikes\n",
    "\n",
    "list_of_valid_video_ids = [\"HGoT7pDfPUE\",\"mvmuCPvRoWQ\",\"7txdxpRwuKE\",\"cl0a3i2wFcc\",\n",
    "                           \"FsAPt_9Bf3U\",\"9tlHQOKMHGA\",\"Mus_vwhTCq0\",\"YcrXBDAeTCs\"]\n",
    "\n",
    "def operate(ls):\n",
    "    for video_id in list_of_valid_video_ids:\n",
    "        vid_scrape(\"https://www.youtube.com/watch?v=\" + video_id)\n",
    "\n",
    "def multi_vid_scrape(ls):\n",
    "    ls1 = ls[0:4]\n",
    "    ls2 = ls[4:8]\n",
    "    \n",
    "    t1 = threading.Thread(target=operate(ls1))\n",
    "    t2 = threading.Thread(target=operate(ls2))\n",
    "    t1.start()\n",
    "    t2.start()\n",
    "    \n",
    "    \n",
    "\n",
    "# #Use multithreading for faster output\n",
    "# for video_id in list_of_valid_video_ids:\n",
    "#     vid_scrape(\"https://www.youtube.com/watch?v=\" + video_id)\n",
    "\n",
    "# Note the program fails when there are 0 likes or 0 dislikes"
   ]
  },
  {
   "cell_type": "code",
   "execution_count": null,
   "metadata": {},
   "outputs": [],
   "source": []
  }
 ],
 "metadata": {
  "kernelspec": {
   "display_name": "Python 3",
   "language": "python",
   "name": "python3"
  },
  "language_info": {
   "codemirror_mode": {
    "name": "ipython",
    "version": 3
   },
   "file_extension": ".py",
   "mimetype": "text/x-python",
   "name": "python",
   "nbconvert_exporter": "python",
   "pygments_lexer": "ipython3",
   "version": "3.8.3"
  }
 },
 "nbformat": 4,
 "nbformat_minor": 4
}

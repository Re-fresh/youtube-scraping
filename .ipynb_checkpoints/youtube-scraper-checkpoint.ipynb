{
 "cells": [
  {
   "cell_type": "code",
   "execution_count": 1,
   "metadata": {},
   "outputs": [],
   "source": [
    "import requests\n",
    "from bs4 import BeautifulSoup\n",
    "import re                              #regex"
   ]
  },
  {
   "cell_type": "code",
   "execution_count": 2,
   "metadata": {},
   "outputs": [],
   "source": [
    "url = \"https://www.youtube.com/watch?v=7tCNu4CnjVc\"\n",
    "page = requests.get(url)\n",
    "soup = BeautifulSoup(page.content, 'html.parser')\n",
    "# print(dir(page))\n",
    "# page.headers                #https://en.wikipedia.org/wiki/List_of_HTTP_header_fields\n",
    "# soup1 = BeautifulSoup(page.content)"
   ]
  },
  {
   "cell_type": "code",
   "execution_count": 3,
   "metadata": {},
   "outputs": [],
   "source": [
    "# page.content"
   ]
  },
  {
   "cell_type": "code",
   "execution_count": 4,
   "metadata": {},
   "outputs": [],
   "source": [
    "# Look for patterns here\n",
    "\n",
    "# print(soup.prettify())"
   ]
  },
  {
   "cell_type": "code",
   "execution_count": 5,
   "metadata": {},
   "outputs": [],
   "source": [
    "# https://regex101.com/ might come useful\n",
    "\n",
    "pattern_title = r'^<title>(.*) - YouTube<\\/title>$'\n",
    "page_title = re.search(pattern_title, str(soup.title)).group(1)\n",
    "\n",
    "pattern_date = r'\\\\\\\"uploadDate\\\\\\\":\\\\\\\"(\\d\\d\\d\\d-\\d\\d-\\d\\d)\\\\\\\"}}'\n",
    "upload_date = re.search(pattern_date, str(soup)).group(1)\n",
    "\n",
    "pattern_like = r'{\\\"label\\\":\\\"(.*?) likes\\\"}'\n",
    "like_count = re.search(pattern_like, str(soup)).group(1)\n",
    "\n",
    "pattern_dislike = r'{\\\"label\\\":\\\"([0-9,]*) dislikes\\\"{0,1}'\n",
    "dislike_count = re.search(pattern_dislike, str(soup)).group(1)"
   ]
  },
  {
   "cell_type": "code",
   "execution_count": 6,
   "metadata": {},
   "outputs": [
    {
     "name": "stdout",
     "output_type": "stream",
     "text": [
      "URL: https://www.youtube.com/watch?v=7tCNu4CnjVc\n",
      "Title: Coding Trees in Python - Computerphile\n",
      "Upload Date: 2020-03-04\n",
      "Likes: 4,965\n",
      "Dislikes: 167\n"
     ]
    }
   ],
   "source": [
    "print(\"URL: \" + url)\n",
    "print(\"Title: \" + page_title)\n",
    "print(\"Upload Date: \" + upload_date)\n",
    "print(\"Likes: \" + like_count)\n",
    "print(\"Dislikes: \" + dislike_count)"
   ]
  },
  {
   "cell_type": "code",
   "execution_count": 7,
   "metadata": {},
   "outputs": [],
   "source": [
    "# Skip this block, since it's useless\n",
    "\n",
    "\n",
    "# Generating a random YouTube Video\n",
    "\n",
    "# NOTE 1: It is difficult to generate a random VALID youtube video as there \n",
    "#       a total of 64^11 possible video ids, and only about 64^4.8 are valid. So, \n",
    "#       probability of generating a random video which is valid = (64^4.8)/(64^11) = 10^-12 \n",
    "\n",
    "# NOTE 2: It is not possible to get a list of valid youtube video ids\n",
    "\n",
    "# YouTube Video ID format in regex->     [0-9A-Za-z_-]{10}[048AEIMQUYcgkosw]\n",
    "\n",
    "import string\n",
    "import random\n",
    "import requests\n",
    "# dir(string)\n",
    "\n",
    "# a = list(string.ascii_lowercase) +  list(string.ascii_uppercase) + [\"-\", \"_\"] \n",
    "# print(a)\n",
    "\n",
    "def generateRandomVideoID():\n",
    "    vid_id = []\n",
    "    a = list(string.ascii_lowercase) +  list(string.ascii_uppercase) + [\"-\", \"_\"] \n",
    "    last = list(\"048AEIMQUYcgkosw\")\n",
    "    for i in range(10):\n",
    "        vid_id.append(random.choice(a))\n",
    "    vid_id.append(random.choice(last))\n",
    "    return \"\".join(vid_id)\n",
    "\n",
    "# while(True):\n",
    "#     random_url =\"https://www.youtube.com/watch?v=\" +generateID()\n",
    "#     random_page = requests.get(random_url)\n",
    "#     if(not bool(re.search(\"unavailable\", random_page.text))):\n",
    "#         break\n",
    "        \n",
    "    \n",
    "# print(\"https://www.youtube.com/watch?v=\" +generateID())"
   ]
  },
  {
   "cell_type": "code",
   "execution_count": 8,
   "metadata": {},
   "outputs": [],
   "source": [
    "# dir(soup.find())"
   ]
  },
  {
   "cell_type": "code",
   "execution_count": 9,
   "metadata": {},
   "outputs": [],
   "source": [
    "# assembling all the above in the function below\n",
    "def vid_scrape(url):\n",
    "    page = requests.get(url)\n",
    "    soup = BeautifulSoup(page.content, 'html.parser')\n",
    "    \n",
    "    pattern_title = r'^<title>(.*) - YouTube<\\/title>$'\n",
    "    page_title = re.search(pattern_title, str(soup.title)).group(1)\n",
    "\n",
    "    pattern_date = r'\\\\\\\"uploadDate\\\\\\\":\\\\\\\"(\\d\\d\\d\\d-\\d\\d-\\d\\d)\\\\\\\"}}'\n",
    "    upload_date = re.search(pattern_date, str(soup)).group(1)\n",
    "\n",
    "    pattern_like = r'{\\\"label\\\":\\\"(.*?) likes\\\"}'\n",
    "    like_count = re.search(pattern_like, str(soup)).group(1)\n",
    "\n",
    "    pattern_dislike = r'{\\\"label\\\":\\\"([0-9,]*) dislikes\\\"{0,1}'\n",
    "    dislike_count = re.search(pattern_dislike, str(soup)).group(1)\n",
    "    print(\"----------------------------\")\n",
    "    print(\"URL: \" + url)\n",
    "    print(\"Title: \" + page_title)\n",
    "    print(\"Upload Date: \" + upload_date)\n",
    "    print(\"Likes: \" + like_count)\n",
    "    print(\"Dislikes: \" + dislike_count + \"\\n\\n\")\n",
    "\n",
    "# vid_scrape(\"https://www.youtube.com/watch?v=HGoT7pDfPUE\")"
   ]
  },
  {
   "cell_type": "code",
   "execution_count": 10,
   "metadata": {},
   "outputs": [
    {
     "name": "stdout",
     "output_type": "stream",
     "text": [
      "----------------------------\n",
      "URL: https://www.youtube.com/watch?v=HGoT7pDfPUE\n",
      "Title: DNA: नई शिक्षा नीति का संपूर्ण विश्लेषण | Sudhir Chaudhary | Education Policy | Analysis | Explained\n",
      "Upload Date: 2020-07-29\n",
      "Likes: 131,032\n",
      "Dislikes: 6,849\n",
      "\n",
      "\n",
      "----------------------------\n",
      "URL: https://www.youtube.com/watch?v=mvmuCPvRoWQ\n",
      "Title: Euler's formula with introductory group theory\n",
      "Upload Date: 2017-03-03\n",
      "Likes: 31,722\n",
      "Dislikes: 331\n",
      "\n",
      "\n",
      "----------------------------\n",
      "URL: https://www.youtube.com/watch?v=7txdxpRwuKE\n",
      "Title: Ankita Lokhande Speaks To Arnab Goswami Says, 'Sushant Should Be Remembered As A Hero'\n",
      "Upload Date: 2020-07-30\n",
      "Likes: 155,733\n",
      "Dislikes: 4,651\n",
      "\n",
      "\n",
      "----------------------------\n",
      "URL: https://www.youtube.com/watch?v=cl0a3i2wFcc\n",
      "Title: Diljit Dosanjh - G.O.A.T. (Official Music Video)\n",
      "Upload Date: 2020-07-29\n",
      "Likes: 707,573\n",
      "Dislikes: 27,679\n",
      "\n",
      "\n",
      "----------------------------\n",
      "URL: https://www.youtube.com/watch?v=FsAPt_9Bf3U\n",
      "Title: Python Tutorial: Decorators - Dynamically Alter The Functionality Of Your Functions\n",
      "Upload Date: 2016-04-04\n",
      "Likes: 9,388\n",
      "Dislikes: 89\n",
      "\n",
      "\n",
      "----------------------------\n",
      "URL: https://www.youtube.com/watch?v=9tlHQOKMHGA\n",
      "Title: What does i^i = ?\n",
      "Upload Date: 2017-09-12\n",
      "Likes: 35,634\n",
      "Dislikes: 628\n",
      "\n",
      "\n",
      "----------------------------\n",
      "URL: https://www.youtube.com/watch?v=Mus_vwhTCq0\n",
      "Title: JavaScript Pro Tips - Code This, NOT That\n",
      "Upload Date: 2018-09-27\n",
      "Likes: 63,240\n",
      "Dislikes: 1,018\n",
      "\n",
      "\n"
     ]
    },
    {
     "ename": "AttributeError",
     "evalue": "'NoneType' object has no attribute 'group'",
     "output_type": "error",
     "traceback": [
      "\u001b[1;31m---------------------------------------------------------------------------\u001b[0m",
      "\u001b[1;31mAttributeError\u001b[0m                            Traceback (most recent call last)",
      "\u001b[1;32m<ipython-input-10-8f64fb4e26bb>\u001b[0m in \u001b[0;36m<module>\u001b[1;34m\u001b[0m\n\u001b[0;32m     13\u001b[0m \u001b[1;31m#Use multithreading for faster output\u001b[0m\u001b[1;33m\u001b[0m\u001b[1;33m\u001b[0m\u001b[1;33m\u001b[0m\u001b[0m\n\u001b[0;32m     14\u001b[0m \u001b[1;32mfor\u001b[0m \u001b[0mvideo_id\u001b[0m \u001b[1;32min\u001b[0m \u001b[0mlist_of_valid_video_ids\u001b[0m\u001b[1;33m:\u001b[0m\u001b[1;33m\u001b[0m\u001b[1;33m\u001b[0m\u001b[0m\n\u001b[1;32m---> 15\u001b[1;33m     \u001b[0mvid_scrape\u001b[0m\u001b[1;33m(\u001b[0m\u001b[1;34m\"https://www.youtube.com/watch?v=\"\u001b[0m \u001b[1;33m+\u001b[0m \u001b[0mvideo_id\u001b[0m\u001b[1;33m)\u001b[0m\u001b[1;33m\u001b[0m\u001b[1;33m\u001b[0m\u001b[0m\n\u001b[0m\u001b[0;32m     16\u001b[0m \u001b[1;33m\u001b[0m\u001b[0m\n\u001b[0;32m     17\u001b[0m \u001b[1;31m# Note the program fails when there are 0 likes or 0 dislikes\u001b[0m\u001b[1;33m\u001b[0m\u001b[1;33m\u001b[0m\u001b[1;33m\u001b[0m\u001b[0m\n",
      "\u001b[1;32m<ipython-input-9-e728da9e41bb>\u001b[0m in \u001b[0;36mvid_scrape\u001b[1;34m(url)\u001b[0m\n\u001b[0;32m     14\u001b[0m \u001b[1;33m\u001b[0m\u001b[0m\n\u001b[0;32m     15\u001b[0m     \u001b[0mpattern_dislike\u001b[0m \u001b[1;33m=\u001b[0m \u001b[1;34mr'{\\\"label\\\":\\\"([0-9,]*) dislikes\\\"{0,1}'\u001b[0m\u001b[1;33m\u001b[0m\u001b[1;33m\u001b[0m\u001b[0m\n\u001b[1;32m---> 16\u001b[1;33m     \u001b[0mdislike_count\u001b[0m \u001b[1;33m=\u001b[0m \u001b[0mre\u001b[0m\u001b[1;33m.\u001b[0m\u001b[0msearch\u001b[0m\u001b[1;33m(\u001b[0m\u001b[0mpattern_dislike\u001b[0m\u001b[1;33m,\u001b[0m \u001b[0mstr\u001b[0m\u001b[1;33m(\u001b[0m\u001b[0msoup\u001b[0m\u001b[1;33m)\u001b[0m\u001b[1;33m)\u001b[0m\u001b[1;33m.\u001b[0m\u001b[0mgroup\u001b[0m\u001b[1;33m(\u001b[0m\u001b[1;36m1\u001b[0m\u001b[1;33m)\u001b[0m\u001b[1;33m\u001b[0m\u001b[1;33m\u001b[0m\u001b[0m\n\u001b[0m\u001b[0;32m     17\u001b[0m     \u001b[0mprint\u001b[0m\u001b[1;33m(\u001b[0m\u001b[1;34m\"----------------------------\"\u001b[0m\u001b[1;33m)\u001b[0m\u001b[1;33m\u001b[0m\u001b[1;33m\u001b[0m\u001b[0m\n\u001b[0;32m     18\u001b[0m     \u001b[0mprint\u001b[0m\u001b[1;33m(\u001b[0m\u001b[1;34m\"URL: \"\u001b[0m \u001b[1;33m+\u001b[0m \u001b[0murl\u001b[0m\u001b[1;33m)\u001b[0m\u001b[1;33m\u001b[0m\u001b[1;33m\u001b[0m\u001b[0m\n",
      "\u001b[1;31mAttributeError\u001b[0m: 'NoneType' object has no attribute 'group'"
     ]
    }
   ],
   "source": [
    "# https://www.youtube.com/watch?v=HGoT7pDfPUE\n",
    "# https://www.youtube.com/watch?v=mvmuCPvRoWQ\n",
    "# https://www.youtube.com/watch?v=7txdxpRwuKE\n",
    "# https://www.youtube.com/watch?v=cl0a3i2wFcc\n",
    "# https://www.youtube.com/watch?v=FsAPt_9Bf3U\n",
    "# https://www.youtube.com/watch?v=9tlHQOKMHGA\n",
    "# https://www.youtube.com/watch?v=Mus_vwhTCq0\n",
    "# https://www.youtube.com/watch?v=YcrXBDAeTCs   #This video has 0 dislikes\n",
    "\n",
    "list_of_valid_video_ids = [\"HGoT7pDfPUE\",\"mvmuCPvRoWQ\",\"7txdxpRwuKE\",\"cl0a3i2wFcc\",\n",
    "                           \"FsAPt_9Bf3U\",\"9tlHQOKMHGA\",\"Mus_vwhTCq0\",\"YcrXBDAeTCs\"]\n",
    "\n",
    "#Use multithreading for faster output\n",
    "for video_id in list_of_valid_video_ids:\n",
    "    vid_scrape(\"https://www.youtube.com/watch?v=\" + video_id)\n",
    "\n",
    "# Note the program fails when there are 0 likes or 0 dislikes"
   ]
  },
  {
   "cell_type": "code",
   "execution_count": null,
   "metadata": {},
   "outputs": [],
   "source": []
  }
 ],
 "metadata": {
  "kernelspec": {
   "display_name": "Python 3",
   "language": "python",
   "name": "python3"
  },
  "language_info": {
   "codemirror_mode": {
    "name": "ipython",
    "version": 3
   },
   "file_extension": ".py",
   "mimetype": "text/x-python",
   "name": "python",
   "nbconvert_exporter": "python",
   "pygments_lexer": "ipython3",
   "version": "3.8.3"
  }
 },
 "nbformat": 4,
 "nbformat_minor": 4
}

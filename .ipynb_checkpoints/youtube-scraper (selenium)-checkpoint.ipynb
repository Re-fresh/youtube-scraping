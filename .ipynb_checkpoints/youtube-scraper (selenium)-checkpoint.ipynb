{
 "cells": [
  {
   "cell_type": "code",
   "execution_count": 6,
   "metadata": {},
   "outputs": [],
   "source": [
    "import requests\n",
    "from bs4 import BeautifulSoup\n",
    "import re                              #regex\n",
    "from selenium import webdriver\n",
    "from selenium.webdriver.chrome.options import Options\n",
    "# opts = Options()\n",
    "# opts.set_headless()\n",
    "\n",
    "browser = webdriver.Chrome(\"C:\\\\Users\\\\admin\\\\Downloads\\\\youtube-scraper\\\\chromedriver-84.0.4147.30\")"
   ]
  },
  {
   "cell_type": "code",
   "execution_count": 4,
   "metadata": {},
   "outputs": [
    {
     "data": {
      "text/plain": [
       "['__class__',\n",
       " '__delattr__',\n",
       " '__dict__',\n",
       " '__dir__',\n",
       " '__doc__',\n",
       " '__enter__',\n",
       " '__eq__',\n",
       " '__exit__',\n",
       " '__format__',\n",
       " '__ge__',\n",
       " '__getattribute__',\n",
       " '__gt__',\n",
       " '__hash__',\n",
       " '__init__',\n",
       " '__init_subclass__',\n",
       " '__le__',\n",
       " '__lt__',\n",
       " '__module__',\n",
       " '__ne__',\n",
       " '__new__',\n",
       " '__reduce__',\n",
       " '__reduce_ex__',\n",
       " '__repr__',\n",
       " '__setattr__',\n",
       " '__sizeof__',\n",
       " '__str__',\n",
       " '__subclasshook__',\n",
       " '__weakref__',\n",
       " '_file_detector',\n",
       " '_is_remote',\n",
       " '_mobile',\n",
       " '_switch_to',\n",
       " '_unwrap_value',\n",
       " '_web_element_cls',\n",
       " '_wrap_value',\n",
       " 'add_cookie',\n",
       " 'application_cache',\n",
       " 'back',\n",
       " 'capabilities',\n",
       " 'close',\n",
       " 'command_executor',\n",
       " 'create_options',\n",
       " 'create_web_element',\n",
       " 'current_url',\n",
       " 'current_window_handle',\n",
       " 'delete_all_cookies',\n",
       " 'delete_cookie',\n",
       " 'desired_capabilities',\n",
       " 'error_handler',\n",
       " 'execute',\n",
       " 'execute_async_script',\n",
       " 'execute_cdp_cmd',\n",
       " 'execute_script',\n",
       " 'file_detector',\n",
       " 'file_detector_context',\n",
       " 'find_element',\n",
       " 'find_element_by_class_name',\n",
       " 'find_element_by_css_selector',\n",
       " 'find_element_by_id',\n",
       " 'find_element_by_link_text',\n",
       " 'find_element_by_name',\n",
       " 'find_element_by_partial_link_text',\n",
       " 'find_element_by_tag_name',\n",
       " 'find_element_by_xpath',\n",
       " 'find_elements',\n",
       " 'find_elements_by_class_name',\n",
       " 'find_elements_by_css_selector',\n",
       " 'find_elements_by_id',\n",
       " 'find_elements_by_link_text',\n",
       " 'find_elements_by_name',\n",
       " 'find_elements_by_partial_link_text',\n",
       " 'find_elements_by_tag_name',\n",
       " 'find_elements_by_xpath',\n",
       " 'forward',\n",
       " 'fullscreen_window',\n",
       " 'get',\n",
       " 'get_cookie',\n",
       " 'get_cookies',\n",
       " 'get_log',\n",
       " 'get_network_conditions',\n",
       " 'get_screenshot_as_base64',\n",
       " 'get_screenshot_as_file',\n",
       " 'get_screenshot_as_png',\n",
       " 'get_window_position',\n",
       " 'get_window_rect',\n",
       " 'get_window_size',\n",
       " 'implicitly_wait',\n",
       " 'launch_app',\n",
       " 'log_types',\n",
       " 'maximize_window',\n",
       " 'minimize_window',\n",
       " 'mobile',\n",
       " 'name',\n",
       " 'orientation',\n",
       " 'page_source',\n",
       " 'quit',\n",
       " 'refresh',\n",
       " 'save_screenshot',\n",
       " 'service',\n",
       " 'session_id',\n",
       " 'set_network_conditions',\n",
       " 'set_page_load_timeout',\n",
       " 'set_script_timeout',\n",
       " 'set_window_position',\n",
       " 'set_window_rect',\n",
       " 'set_window_size',\n",
       " 'start_client',\n",
       " 'start_session',\n",
       " 'stop_client',\n",
       " 'switch_to',\n",
       " 'switch_to_active_element',\n",
       " 'switch_to_alert',\n",
       " 'switch_to_default_content',\n",
       " 'switch_to_frame',\n",
       " 'switch_to_window',\n",
       " 'title',\n",
       " 'w3c',\n",
       " 'window_handles']"
      ]
     },
     "execution_count": 4,
     "metadata": {},
     "output_type": "execute_result"
    }
   ],
   "source": [
    "dir(browser)"
   ]
  },
  {
   "cell_type": "code",
   "execution_count": 5,
   "metadata": {},
   "outputs": [],
   "source": [
    "browser.get(\"https://www.youtube.com/watch?v=7tCNu4CnjVc\")"
   ]
  },
  {
   "cell_type": "code",
   "execution_count": 7,
   "metadata": {},
   "outputs": [
    {
     "ename": "NameError",
     "evalue": "name 'driver' is not defined",
     "output_type": "error",
     "traceback": [
      "\u001b[1;31m---------------------------------------------------------------------------\u001b[0m",
      "\u001b[1;31mNameError\u001b[0m                                 Traceback (most recent call last)",
      "\u001b[1;32m<ipython-input-7-4d3b13833262>\u001b[0m in \u001b[0;36m<module>\u001b[1;34m\u001b[0m\n\u001b[0;32m      2\u001b[0m \u001b[1;33m\u001b[0m\u001b[0m\n\u001b[0;32m      3\u001b[0m \u001b[1;31m# Get scroll height\u001b[0m\u001b[1;33m\u001b[0m\u001b[1;33m\u001b[0m\u001b[1;33m\u001b[0m\u001b[0m\n\u001b[1;32m----> 4\u001b[1;33m \u001b[0mlast_height\u001b[0m \u001b[1;33m=\u001b[0m \u001b[0mdriver\u001b[0m\u001b[1;33m.\u001b[0m\u001b[0mexecute_script\u001b[0m\u001b[1;33m(\u001b[0m\u001b[1;34m\"return document.body.scrollHeight\"\u001b[0m\u001b[1;33m)\u001b[0m\u001b[1;33m\u001b[0m\u001b[1;33m\u001b[0m\u001b[0m\n\u001b[0m\u001b[0;32m      5\u001b[0m \u001b[1;33m\u001b[0m\u001b[0m\n\u001b[0;32m      6\u001b[0m \u001b[1;32mwhile\u001b[0m \u001b[1;32mTrue\u001b[0m\u001b[1;33m:\u001b[0m\u001b[1;33m\u001b[0m\u001b[1;33m\u001b[0m\u001b[0m\n",
      "\u001b[1;31mNameError\u001b[0m: name 'driver' is not defined"
     ]
    }
   ],
   "source": [
    "SCROLL_PAUSE_TIME = 0.5\n",
    "\n",
    "# Get scroll height\n",
    "last_height = browser.execute_script(\"return document.body.scrollHeight\")\n",
    "\n",
    "while True:\n",
    "    # Scroll down to bottom\n",
    "    browser.execute_script(\"window.scrollTo(0, document.body.scrollHeight);\")\n",
    "\n",
    "    # Wait to load page\n",
    "    time.sleep(SCROLL_PAUSE_TIME)\n",
    "\n",
    "    # Calculate new scroll height and compare with last scroll height\n",
    "    new_height = browser.execute_script(\"return document.body.scrollHeight\")\n",
    "    if new_height == last_height:\n",
    "        break\n",
    "    last_height = new_height"
   ]
  },
  {
   "cell_type": "code",
   "execution_count": null,
   "metadata": {},
   "outputs": [],
   "source": []
  },
  {
   "cell_type": "code",
   "execution_count": null,
   "metadata": {},
   "outputs": [],
   "source": []
  },
  {
   "cell_type": "code",
   "execution_count": null,
   "metadata": {},
   "outputs": [],
   "source": []
  },
  {
   "cell_type": "code",
   "execution_count": null,
   "metadata": {},
   "outputs": [],
   "source": []
  },
  {
   "cell_type": "code",
   "execution_count": null,
   "metadata": {},
   "outputs": [],
   "source": []
  },
  {
   "cell_type": "code",
   "execution_count": null,
   "metadata": {},
   "outputs": [],
   "source": []
  },
  {
   "cell_type": "code",
   "execution_count": null,
   "metadata": {},
   "outputs": [],
   "source": []
  },
  {
   "cell_type": "code",
   "execution_count": 2,
   "metadata": {},
   "outputs": [],
   "source": [
    "url = \"https://www.youtube.com/watch?v=7tCNu4CnjVc\"\n",
    "page = requests.get(url)\n",
    "soup = BeautifulSoup(page.content, 'html.parser')\n",
    "# print(dir(page))\n",
    "# page.headers                #https://en.wikipedia.org/wiki/List_of_HTTP_header_fields\n",
    "# soup1 = BeautifulSoup(page.content)"
   ]
  },
  {
   "cell_type": "code",
   "execution_count": null,
   "metadata": {},
   "outputs": [],
   "source": []
  },
  {
   "cell_type": "code",
   "execution_count": null,
   "metadata": {},
   "outputs": [],
   "source": []
  },
  {
   "cell_type": "code",
   "execution_count": null,
   "metadata": {},
   "outputs": [],
   "source": []
  },
  {
   "cell_type": "code",
   "execution_count": null,
   "metadata": {},
   "outputs": [],
   "source": []
  },
  {
   "cell_type": "code",
   "execution_count": 3,
   "metadata": {},
   "outputs": [],
   "source": [
    "# page.content"
   ]
  },
  {
   "cell_type": "code",
   "execution_count": 4,
   "metadata": {},
   "outputs": [],
   "source": [
    "# Look for patterns here\n",
    "\n",
    "# print(soup.prettify())"
   ]
  },
  {
   "cell_type": "code",
   "execution_count": 6,
   "metadata": {},
   "outputs": [],
   "source": [
    "# https://regex101.com/ might come useful\n",
    "\n",
    "pattern_title = r'^<title>(.*) - YouTube<\\/title>$'\n",
    "page_title = re.search(pattern_title, str(soup.title)).group(1)\n",
    "\n",
    "pattern_date = r'\\\\\\\"uploadDate\\\\\\\":\\\\\\\"(\\d\\d\\d\\d-\\d\\d-\\d\\d)\\\\\\\"}}'\n",
    "upload_date = re.search(pattern_date, str(soup)).group(1)\n",
    "\n",
    "pattern_like = r'{\\\"label\\\":\\\"(.*?) likes\\\"}'\n",
    "like_count = re.search(pattern_like, str(soup)).group(1)\n",
    "\n",
    "pattern_dislike = r'{\\\"label\\\":\\\"([0-9,]*) dislikes\\\"{0,1}'\n",
    "dislike_count = re.search(pattern_dislike, str(soup)).group(1)"
   ]
  },
  {
   "cell_type": "code",
   "execution_count": 7,
   "metadata": {},
   "outputs": [
    {
     "name": "stdout",
     "output_type": "stream",
     "text": [
      "URL: https://www.youtube.com/watch?v=7tCNu4CnjVc\n",
      "Title: Coding Trees in Python - Computerphile\n",
      "Upload Date: 2020-03-04\n",
      "Likes: 4,965\n",
      "Dislikes: 167\n"
     ]
    }
   ],
   "source": [
    "print(\"URL: \" + url)\n",
    "print(\"Title: \" + page_title)\n",
    "print(\"Upload Date: \" + upload_date)\n",
    "print(\"Likes: \" + like_count)\n",
    "print(\"Dislikes: \" + dislike_count)"
   ]
  },
  {
   "cell_type": "code",
   "execution_count": 8,
   "metadata": {},
   "outputs": [],
   "source": [
    "# Skip this block, since it's useless\n",
    "\n",
    "\n",
    "# Generating a random YouTube Video\n",
    "\n",
    "# NOTE 1: It is difficult to generate a random VALID youtube video as there \n",
    "#       a total of 64^11 possible video ids, and only about 64^4.8 are valid. So, \n",
    "#       probability of generating a random video which is valid = (64^4.8)/(64^11) = 10^-12 \n",
    "\n",
    "# NOTE 2: It is not possible to get a list of valid youtube video ids\n",
    "\n",
    "# YouTube Video ID format in regex->     [0-9A-Za-z_-]{10}[048AEIMQUYcgkosw]\n",
    "\n",
    "import string\n",
    "import random\n",
    "import requests\n",
    "# dir(string)\n",
    "\n",
    "# a = list(string.ascii_lowercase) +  list(string.ascii_uppercase) + [\"-\", \"_\"] \n",
    "# print(a)\n",
    "\n",
    "def generateRandomVideoID():\n",
    "    vid_id = []\n",
    "    a = list(string.ascii_lowercase) +  list(string.ascii_uppercase) + [\"-\", \"_\"] \n",
    "    last = list(\"048AEIMQUYcgkosw\")\n",
    "    for i in range(10):\n",
    "        vid_id.append(random.choice(a))\n",
    "    vid_id.append(random.choice(last))\n",
    "    return \"\".join(vid_id)\n",
    "\n",
    "# while(True):\n",
    "#     random_url =\"https://www.youtube.com/watch?v=\" +generateID()\n",
    "#     random_page = requests.get(random_url)\n",
    "#     if(not bool(re.search(\"unavailable\", random_page.text))):\n",
    "#         break\n",
    "        \n",
    "    \n",
    "# print(\"https://www.youtube.com/watch?v=\" +generateID())"
   ]
  },
  {
   "cell_type": "code",
   "execution_count": 9,
   "metadata": {},
   "outputs": [],
   "source": [
    "# dir(soup.find())"
   ]
  },
  {
   "cell_type": "code",
   "execution_count": 10,
   "metadata": {},
   "outputs": [],
   "source": [
    "# assembling all the above in the function below\n",
    "def vid_scrape(url):\n",
    "    page = requests.get(url)\n",
    "    soup = BeautifulSoup(page.content, 'html.parser')\n",
    "    \n",
    "    pattern_title = r'^<title>(.*) - YouTube<\\/title>$'\n",
    "    page_title = re.search(pattern_title, str(soup.title)).group(1)\n",
    "\n",
    "    pattern_date = r'\\\\\\\"uploadDate\\\\\\\":\\\\\\\"(\\d\\d\\d\\d-\\d\\d-\\d\\d)\\\\\\\"}}'\n",
    "    upload_date = re.search(pattern_date, str(soup)).group(1)\n",
    "\n",
    "    pattern_like = r'{\\\"label\\\":\\\"(.*?) likes\\\"}'\n",
    "    like_count = re.search(pattern_like, str(soup)).group(1)\n",
    "\n",
    "    pattern_dislike = r'{\\\"label\\\":\\\"([0-9,]*) dislikes\\\"{0,1}'\n",
    "    dislike_count = re.search(pattern_dislike, str(soup)).group(1)\n",
    "    print(\"----------------------------\")\n",
    "    print(\"URL: \" + url)\n",
    "    print(\"Title: \" + page_title)\n",
    "    print(\"Upload Date: \" + upload_date)\n",
    "    print(\"Likes: \" + like_count)\n",
    "    print(\"Dislikes: \" + dislike_count + \"\\n\\n\")\n",
    "\n",
    "# vid_scrape(\"https://www.youtube.com/watch?v=HGoT7pDfPUE\")"
   ]
  },
  {
   "cell_type": "code",
   "execution_count": 11,
   "metadata": {},
   "outputs": [
    {
     "name": "stdout",
     "output_type": "stream",
     "text": [
      "----------------------------\n",
      "URL: https://www.youtube.com/watch?v=HGoT7pDfPUE\n",
      "Title: DNA: नई शिक्षा नीति का संपूर्ण विश्लेषण | Sudhir Chaudhary | Education Policy | Analysis | Explained\n",
      "Upload Date: 2020-07-29\n",
      "Likes: 126,605\n",
      "Dislikes: 6,438\n",
      "\n",
      "\n",
      "----------------------------\n",
      "URL: https://www.youtube.com/watch?v=mvmuCPvRoWQ\n",
      "Title: Euler's formula with introductory group theory\n",
      "Upload Date: 2017-03-03\n",
      "Likes: 31,721\n",
      "Dislikes: 331\n",
      "\n",
      "\n",
      "----------------------------\n",
      "URL: https://www.youtube.com/watch?v=7txdxpRwuKE\n",
      "Title: Ankita Lokhande Speaks To Arnab Goswami Says, 'Sushant Should Be Remembered As A Hero'\n",
      "Upload Date: 2020-07-30\n",
      "Likes: 151,474\n",
      "Dislikes: 4,302\n",
      "\n",
      "\n",
      "----------------------------\n",
      "URL: https://www.youtube.com/watch?v=cl0a3i2wFcc\n",
      "Title: Diljit Dosanjh - G.O.A.T. (Official Music Video)\n",
      "Upload Date: 2020-07-29\n",
      "Likes: 701,363\n",
      "Dislikes: 27,665\n",
      "\n",
      "\n",
      "----------------------------\n",
      "URL: https://www.youtube.com/watch?v=FsAPt_9Bf3U\n",
      "Title: Python Tutorial: Decorators - Dynamically Alter The Functionality Of Your Functions\n",
      "Upload Date: 2016-04-04\n",
      "Likes: 9,385\n",
      "Dislikes: 89\n",
      "\n",
      "\n",
      "----------------------------\n",
      "URL: https://www.youtube.com/watch?v=9tlHQOKMHGA\n",
      "Title: What does i^i = ?\n",
      "Upload Date: 2017-09-12\n",
      "Likes: 35,632\n",
      "Dislikes: 628\n",
      "\n",
      "\n",
      "----------------------------\n",
      "URL: https://www.youtube.com/watch?v=Mus_vwhTCq0\n",
      "Title: JavaScript Pro Tips - Code This, NOT That\n",
      "Upload Date: 2018-09-27\n",
      "Likes: 63,236\n",
      "Dislikes: 1,018\n",
      "\n",
      "\n"
     ]
    },
    {
     "ename": "AttributeError",
     "evalue": "'NoneType' object has no attribute 'group'",
     "output_type": "error",
     "traceback": [
      "\u001b[1;31m---------------------------------------------------------------------------\u001b[0m",
      "\u001b[1;31mAttributeError\u001b[0m                            Traceback (most recent call last)",
      "\u001b[1;32m<ipython-input-11-697400d6c1b6>\u001b[0m in \u001b[0;36m<module>\u001b[1;34m\u001b[0m\n\u001b[0;32m     13\u001b[0m \u001b[1;31m#Use multithreading for faster output\u001b[0m\u001b[1;33m\u001b[0m\u001b[1;33m\u001b[0m\u001b[1;33m\u001b[0m\u001b[0m\n\u001b[0;32m     14\u001b[0m \u001b[1;32mfor\u001b[0m \u001b[0mvideo_id\u001b[0m \u001b[1;32min\u001b[0m \u001b[0mlist_of_valid_video_ids\u001b[0m\u001b[1;33m:\u001b[0m\u001b[1;33m\u001b[0m\u001b[1;33m\u001b[0m\u001b[0m\n\u001b[1;32m---> 15\u001b[1;33m     \u001b[0mvid_scrape\u001b[0m\u001b[1;33m(\u001b[0m\u001b[1;34m\"https://www.youtube.com/watch?v=\"\u001b[0m \u001b[1;33m+\u001b[0m \u001b[0mvideo_id\u001b[0m\u001b[1;33m)\u001b[0m\u001b[1;33m\u001b[0m\u001b[1;33m\u001b[0m\u001b[0m\n\u001b[0m\u001b[0;32m     16\u001b[0m \u001b[1;33m\u001b[0m\u001b[0m\n\u001b[0;32m     17\u001b[0m \u001b[1;31m# Note the program fails when there are 0 likes or 0 dislikes\u001b[0m\u001b[1;33m\u001b[0m\u001b[1;33m\u001b[0m\u001b[1;33m\u001b[0m\u001b[0m\n",
      "\u001b[1;32m<ipython-input-10-e728da9e41bb>\u001b[0m in \u001b[0;36mvid_scrape\u001b[1;34m(url)\u001b[0m\n\u001b[0;32m     14\u001b[0m \u001b[1;33m\u001b[0m\u001b[0m\n\u001b[0;32m     15\u001b[0m     \u001b[0mpattern_dislike\u001b[0m \u001b[1;33m=\u001b[0m \u001b[1;34mr'{\\\"label\\\":\\\"([0-9,]*) dislikes\\\"{0,1}'\u001b[0m\u001b[1;33m\u001b[0m\u001b[1;33m\u001b[0m\u001b[0m\n\u001b[1;32m---> 16\u001b[1;33m     \u001b[0mdislike_count\u001b[0m \u001b[1;33m=\u001b[0m \u001b[0mre\u001b[0m\u001b[1;33m.\u001b[0m\u001b[0msearch\u001b[0m\u001b[1;33m(\u001b[0m\u001b[0mpattern_dislike\u001b[0m\u001b[1;33m,\u001b[0m \u001b[0mstr\u001b[0m\u001b[1;33m(\u001b[0m\u001b[0msoup\u001b[0m\u001b[1;33m)\u001b[0m\u001b[1;33m)\u001b[0m\u001b[1;33m.\u001b[0m\u001b[0mgroup\u001b[0m\u001b[1;33m(\u001b[0m\u001b[1;36m1\u001b[0m\u001b[1;33m)\u001b[0m\u001b[1;33m\u001b[0m\u001b[1;33m\u001b[0m\u001b[0m\n\u001b[0m\u001b[0;32m     17\u001b[0m     \u001b[0mprint\u001b[0m\u001b[1;33m(\u001b[0m\u001b[1;34m\"----------------------------\"\u001b[0m\u001b[1;33m)\u001b[0m\u001b[1;33m\u001b[0m\u001b[1;33m\u001b[0m\u001b[0m\n\u001b[0;32m     18\u001b[0m     \u001b[0mprint\u001b[0m\u001b[1;33m(\u001b[0m\u001b[1;34m\"URL: \"\u001b[0m \u001b[1;33m+\u001b[0m \u001b[0murl\u001b[0m\u001b[1;33m)\u001b[0m\u001b[1;33m\u001b[0m\u001b[1;33m\u001b[0m\u001b[0m\n",
      "\u001b[1;31mAttributeError\u001b[0m: 'NoneType' object has no attribute 'group'"
     ]
    }
   ],
   "source": [
    "# https://www.youtube.com/watch?v=HGoT7pDfPUE\n",
    "# https://www.youtube.com/watch?v=mvmuCPvRoWQ\n",
    "# https://www.youtube.com/watch?v=7txdxpRwuKE\n",
    "# https://www.youtube.com/watch?v=cl0a3i2wFcc\n",
    "# https://www.youtube.com/watch?v=FsAPt_9Bf3U\n",
    "# https://www.youtube.com/watch?v=9tlHQOKMHGA\n",
    "# https://www.youtube.com/watch?v=Mus_vwhTCq0\n",
    "# https://www.youtube.com/watch?v=YcrXBDAeTCs   #This video has 0 dislikes\n",
    "\n",
    "list_of_valid_video_ids = [\"HGoT7pDfPUE\",\"mvmuCPvRoWQ\",\"7txdxpRwuKE\",\"cl0a3i2wFcc\",\n",
    "                           \"FsAPt_9Bf3U\",\"9tlHQOKMHGA\",\"Mus_vwhTCq0\",\"YcrXBDAeTCs\"]\n",
    "\n",
    "#Use multithreading for faster output\n",
    "for video_id in list_of_valid_video_ids:\n",
    "    vid_scrape(\"https://www.youtube.com/watch?v=\" + video_id)\n",
    "\n",
    "# Note the program fails when there are 0 likes or 0 dislikes"
   ]
  },
  {
   "cell_type": "code",
   "execution_count": null,
   "metadata": {},
   "outputs": [],
   "source": []
  }
 ],
 "metadata": {
  "kernelspec": {
   "display_name": "Python 3",
   "language": "python",
   "name": "python3"
  },
  "language_info": {
   "codemirror_mode": {
    "name": "ipython",
    "version": 3
   },
   "file_extension": ".py",
   "mimetype": "text/x-python",
   "name": "python",
   "nbconvert_exporter": "python",
   "pygments_lexer": "ipython3",
   "version": "3.8.3"
  }
 },
 "nbformat": 4,
 "nbformat_minor": 4
}
